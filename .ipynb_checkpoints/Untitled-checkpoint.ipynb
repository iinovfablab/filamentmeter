{
 "cells": [
  {
   "cell_type": "code",
   "execution_count": 1,
   "id": "aa0607f9-de21-4289-add1-4a2b8d9cbefe",
   "metadata": {},
   "outputs": [],
   "source": [
    "import pandas as pd\n",
    "import datetime"
   ]
  },
  {
   "cell_type": "code",
   "execution_count": 3,
   "id": "31073776-8dd0-4010-813c-514ec909d437",
   "metadata": {},
   "outputs": [
    {
     "data": {
      "text/html": [
       "<div>\n",
       "<style scoped>\n",
       "    .dataframe tbody tr th:only-of-type {\n",
       "        vertical-align: middle;\n",
       "    }\n",
       "\n",
       "    .dataframe tbody tr th {\n",
       "        vertical-align: top;\n",
       "    }\n",
       "\n",
       "    .dataframe thead th {\n",
       "        text-align: right;\n",
       "    }\n",
       "</style>\n",
       "<table border=\"1\" class=\"dataframe\">\n",
       "  <thead>\n",
       "    <tr style=\"text-align: right;\">\n",
       "      <th></th>\n",
       "      <th>consumo(minutos)</th>\n",
       "      <th>id</th>\n",
       "      <th>username</th>\n",
       "      <th>data_inicio</th>\n",
       "      <th>data_fim</th>\n",
       "      <th>curso</th>\n",
       "      <th>email</th>\n",
       "      <th>consumo_material(cm)</th>\n",
       "    </tr>\n",
       "  </thead>\n",
       "  <tbody>\n",
       "    <tr>\n",
       "      <th>0</th>\n",
       "      <td>60.0</td>\n",
       "      <td>69</td>\n",
       "      <td>SchinaAluno</td>\n",
       "      <td>2023-08-22 19:30:00</td>\n",
       "      <td>2023-08-22 20:30:00</td>\n",
       "      <td>ALUNO - UNISANTA</td>\n",
       "      <td>sergioschina@yahoo.com.br</td>\n",
       "      <td>85</td>\n",
       "    </tr>\n",
       "    <tr>\n",
       "      <th>1</th>\n",
       "      <td>30.0</td>\n",
       "      <td>6</td>\n",
       "      <td>sergio</td>\n",
       "      <td>2023-08-22 19:00:00</td>\n",
       "      <td>2023-08-22 19:30:00</td>\n",
       "      <td>Funcionario - UNISANTA/COLÉGIO</td>\n",
       "      <td>sergioandradeschina@gmail.com</td>\n",
       "      <td>0</td>\n",
       "    </tr>\n",
       "    <tr>\n",
       "      <th>2</th>\n",
       "      <td>60.0</td>\n",
       "      <td>932</td>\n",
       "      <td>Muca</td>\n",
       "      <td>2023-08-21 21:00:00</td>\n",
       "      <td>2023-08-21 22:00:00</td>\n",
       "      <td>ALUNO - UNISANTA - Engenharia de Produção</td>\n",
       "      <td>murilovinicius2001@gmail.com</td>\n",
       "      <td>0</td>\n",
       "    </tr>\n",
       "  </tbody>\n",
       "</table>\n",
       "</div>"
      ],
      "text/plain": [
       "   consumo(minutos)   id     username          data_inicio  \\\n",
       "0              60.0   69  SchinaAluno  2023-08-22 19:30:00   \n",
       "1              30.0    6       sergio  2023-08-22 19:00:00   \n",
       "2              60.0  932         Muca  2023-08-21 21:00:00   \n",
       "\n",
       "              data_fim                                      curso  \\\n",
       "0  2023-08-22 20:30:00                           ALUNO - UNISANTA   \n",
       "1  2023-08-22 19:30:00             Funcionario - UNISANTA/COLÉGIO   \n",
       "2  2023-08-21 22:00:00  ALUNO - UNISANTA - Engenharia de Produção   \n",
       "\n",
       "                           email  consumo_material(cm)  \n",
       "0      sergioschina@yahoo.com.br                    85  \n",
       "1  sergioandradeschina@gmail.com                     0  \n",
       "2   murilovinicius2001@gmail.com                     0  "
      ]
     },
     "execution_count": 3,
     "metadata": {},
     "output_type": "execute_result"
    }
   ],
   "source": [
    "df = pd.read_csv(\"slots.csv\")\n",
    "df"
   ]
  },
  {
   "cell_type": "code",
   "execution_count": 29,
   "id": "2929fb5c-9446-4a64-b113-98395236dbe3",
   "metadata": {},
   "outputs": [
    {
     "name": "stdout",
     "output_type": "stream",
     "text": [
      "[0, 1]\n",
      "[0, 1]\n",
      "[0, 1]\n",
      "[0, 1]\n",
      "[0, 1]\n",
      "[0, 1]\n",
      "[1, 2]\n",
      "[1, 2]\n",
      "[1, 2]\n",
      "[1, 2]\n",
      "[1, 2]\n",
      "[1, 2]\n",
      "[1, 6, 12]\n"
     ]
    }
   ],
   "source": [
    "\n",
    "def check_period(actual_month):\n",
    "    if actual_month <= 6:\n",
    "        retrun [0,1]\n",
    "    else:\n",
    "        return [1,2]\n",
    "    \n",
    "\n",
    "\n",
    "f = lambda x: x <= i\n",
    "filt = list(filter(f, [1,6,12]))\n",
    "print(filt)"
   ]
  }
 ],
 "metadata": {
  "kernelspec": {
   "display_name": "Python 3 (ipykernel)",
   "language": "python",
   "name": "python3"
  },
  "language_info": {
   "codemirror_mode": {
    "name": "ipython",
    "version": 3
   },
   "file_extension": ".py",
   "mimetype": "text/x-python",
   "name": "python",
   "nbconvert_exporter": "python",
   "pygments_lexer": "ipython3",
   "version": "3.9.1"
  }
 },
 "nbformat": 4,
 "nbformat_minor": 5
}
