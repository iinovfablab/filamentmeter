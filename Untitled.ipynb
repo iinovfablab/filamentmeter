{
 "cells": [
  {
   "cell_type": "code",
   "execution_count": 126,
   "id": "aa0607f9-de21-4289-add1-4a2b8d9cbefe",
   "metadata": {},
   "outputs": [],
   "source": [
    "import pandas as pd\n",
    "import datetime"
   ]
  },
  {
   "cell_type": "code",
   "execution_count": 195,
   "id": "31073776-8dd0-4010-813c-514ec909d437",
   "metadata": {},
   "outputs": [
    {
     "data": {
      "text/html": [
       "<div>\n",
       "<style scoped>\n",
       "    .dataframe tbody tr th:only-of-type {\n",
       "        vertical-align: middle;\n",
       "    }\n",
       "\n",
       "    .dataframe tbody tr th {\n",
       "        vertical-align: top;\n",
       "    }\n",
       "\n",
       "    .dataframe thead th {\n",
       "        text-align: right;\n",
       "    }\n",
       "</style>\n",
       "<table border=\"1\" class=\"dataframe\">\n",
       "  <thead>\n",
       "    <tr style=\"text-align: right;\">\n",
       "      <th></th>\n",
       "      <th>consumo(minutos)</th>\n",
       "      <th>id</th>\n",
       "      <th>username</th>\n",
       "      <th>data_inicio</th>\n",
       "      <th>data_fim</th>\n",
       "      <th>curso</th>\n",
       "      <th>email</th>\n",
       "      <th>consumo_material(cm)</th>\n",
       "    </tr>\n",
       "  </thead>\n",
       "  <tbody>\n",
       "    <tr>\n",
       "      <th>0</th>\n",
       "      <td>270.0</td>\n",
       "      <td>75</td>\n",
       "      <td>Manuel013</td>\n",
       "      <td>2023-09-05 13:30:00</td>\n",
       "      <td>2023-09-05 18:00:00</td>\n",
       "      <td>ALUNO - UNISANTA - Engenharia de Computação</td>\n",
       "      <td>manuelcassiano01@gmail.com</td>\n",
       "      <td>0</td>\n",
       "    </tr>\n",
       "    <tr>\n",
       "      <th>1</th>\n",
       "      <td>60.0</td>\n",
       "      <td>3031</td>\n",
       "      <td>zequinha_</td>\n",
       "      <td>2023-09-05 09:30:00</td>\n",
       "      <td>2023-09-05 13:30:00</td>\n",
       "      <td>ALUNO - UNISANTA - Engenharia Eletrônica</td>\n",
       "      <td>zesurf93@gmail.com</td>\n",
       "      <td>0</td>\n",
       "    </tr>\n",
       "    <tr>\n",
       "      <th>2</th>\n",
       "      <td>180.0</td>\n",
       "      <td>928</td>\n",
       "      <td>rodrigo yuki</td>\n",
       "      <td>2023-09-05 10:00:00</td>\n",
       "      <td>2023-09-05 13:00:00</td>\n",
       "      <td>ALUNO - UNISANTA - Engenharia de Produção</td>\n",
       "      <td>rodrigoyukisimabukuro@gmail.com</td>\n",
       "      <td>0</td>\n",
       "    </tr>\n",
       "  </tbody>\n",
       "</table>\n",
       "</div>"
      ],
      "text/plain": [
       "   consumo(minutos)    id      username         data_inicio  \\\n",
       "0             270.0    75     Manuel013 2023-09-05 13:30:00   \n",
       "1              60.0  3031     zequinha_ 2023-09-05 09:30:00   \n",
       "2             180.0   928  rodrigo yuki 2023-09-05 10:00:00   \n",
       "\n",
       "             data_fim                                        curso  \\\n",
       "0 2023-09-05 18:00:00  ALUNO - UNISANTA - Engenharia de Computação   \n",
       "1 2023-09-05 13:30:00     ALUNO - UNISANTA - Engenharia Eletrônica   \n",
       "2 2023-09-05 13:00:00    ALUNO - UNISANTA - Engenharia de Produção   \n",
       "\n",
       "                             email  consumo_material(cm)  \n",
       "0       manuelcassiano01@gmail.com                     0  \n",
       "1               zesurf93@gmail.com                     0  \n",
       "2  rodrigoyukisimabukuro@gmail.com                     0  "
      ]
     },
     "execution_count": 195,
     "metadata": {},
     "output_type": "execute_result"
    }
   ],
   "source": [
    "df = pd.read_csv(\"files/2023_09_05.csv\")\n",
    "\n",
    "now = datetime.datetime.now()\n",
    "df[['data_inicio','data_fim']] = df[['data_inicio','data_fim']].apply(pd.to_datetime)\n",
    "#fmt = \"%Y-%m-%d %H:%M:%S\"\n",
    "\n",
    "#actual_date = datetime.datetime.strptime(now.strftime(\"%Y-%m-%d %H:%M:%S\"), fmt)\n",
    "#actual_date = datetime.datetime.strptime(date_cmp,fmt)\n",
    "\n",
    "df"
   ]
  },
  {
   "cell_type": "code",
   "execution_count": 139,
   "id": "2929fb5c-9446-4a64-b113-98395236dbe3",
   "metadata": {},
   "outputs": [
    {
     "data": {
      "text/html": [
       "<div>\n",
       "<style scoped>\n",
       "    .dataframe tbody tr th:only-of-type {\n",
       "        vertical-align: middle;\n",
       "    }\n",
       "\n",
       "    .dataframe tbody tr th {\n",
       "        vertical-align: top;\n",
       "    }\n",
       "\n",
       "    .dataframe thead th {\n",
       "        text-align: right;\n",
       "    }\n",
       "</style>\n",
       "<table border=\"1\" class=\"dataframe\">\n",
       "  <thead>\n",
       "    <tr style=\"text-align: right;\">\n",
       "      <th></th>\n",
       "      <th>consumo(minutos)</th>\n",
       "      <th>id</th>\n",
       "      <th>username</th>\n",
       "      <th>data_inicio</th>\n",
       "      <th>data_fim</th>\n",
       "      <th>curso</th>\n",
       "      <th>email</th>\n",
       "      <th>consumo_material(cm)</th>\n",
       "    </tr>\n",
       "  </thead>\n",
       "  <tbody>\n",
       "    <tr>\n",
       "      <th>0</th>\n",
       "      <td>120.0</td>\n",
       "      <td>3620</td>\n",
       "      <td>Thiaguito</td>\n",
       "      <td>2023-08-30 20:00:00</td>\n",
       "      <td>2023-08-30 22:00:00</td>\n",
       "      <td>ALUNO - UNISANTA</td>\n",
       "      <td>geymerson_18@hotmail.com</td>\n",
       "      <td>0</td>\n",
       "    </tr>\n",
       "    <tr>\n",
       "      <th>1</th>\n",
       "      <td>60.0</td>\n",
       "      <td>1031</td>\n",
       "      <td>Vinicius José</td>\n",
       "      <td>2023-08-30 12:30:00</td>\n",
       "      <td>2023-08-30 14:00:00</td>\n",
       "      <td>ALUNO - UNISANTA - Engenharia de Produção</td>\n",
       "      <td>viniciusjose20@hotmail.com</td>\n",
       "      <td>119</td>\n",
       "    </tr>\n",
       "  </tbody>\n",
       "</table>\n",
       "</div>"
      ],
      "text/plain": [
       "   consumo(minutos)    id       username         data_inicio  \\\n",
       "0             120.0  3620      Thiaguito 2023-08-30 20:00:00   \n",
       "1              60.0  1031  Vinicius José 2023-08-30 12:30:00   \n",
       "\n",
       "             data_fim                                      curso  \\\n",
       "0 2023-08-30 22:00:00                           ALUNO - UNISANTA   \n",
       "1 2023-08-30 14:00:00  ALUNO - UNISANTA - Engenharia de Produção   \n",
       "\n",
       "                        email  consumo_material(cm)  \n",
       "0    geymerson_18@hotmail.com                     0  \n",
       "1  viniciusjose20@hotmail.com                   119  "
      ]
     },
     "execution_count": 139,
     "metadata": {},
     "output_type": "execute_result"
    }
   ],
   "source": [
    "df\n",
    "\n"
   ]
  },
  {
   "cell_type": "code",
   "execution_count": 48,
   "id": "83ec9526-92a4-4b6e-8f89-f406233f7d31",
   "metadata": {},
   "outputs": [],
   "source": [
    "#dat_min = f\"{year}-{month}-01\"\n",
    "#dat_max = f\"{year}-{month}-25\"\n",
    "\n",
    "datetime.datetime.now()\n",
    "first = \"2023-10-01\"\n",
    "last = \"2023-12-25\"\n",
    "fmt = \"%Y-%m-%d\""
   ]
  },
  {
   "cell_type": "code",
   "execution_count": 50,
   "id": "234de1e8-16a2-46a0-9071-8128b521ee0d",
   "metadata": {},
   "outputs": [
    {
     "data": {
      "text/plain": [
       "datetime.datetime(2023, 10, 1, 0, 0)"
      ]
     },
     "execution_count": 50,
     "metadata": {},
     "output_type": "execute_result"
    }
   ],
   "source": [
    "datetime.datetime.strptime(first, fmt)"
   ]
  },
  {
   "cell_type": "code",
   "execution_count": null,
   "id": "f1bf5e1e-4a5a-4f70-9d60-426fa96980e6",
   "metadata": {},
   "outputs": [],
   "source": []
  }
 ],
 "metadata": {
  "kernelspec": {
   "display_name": "Python 3 (ipykernel)",
   "language": "python",
   "name": "python3"
  },
  "language_info": {
   "codemirror_mode": {
    "name": "ipython",
    "version": 3
   },
   "file_extension": ".py",
   "mimetype": "text/x-python",
   "name": "python",
   "nbconvert_exporter": "python",
   "pygments_lexer": "ipython3",
   "version": "3.9.1"
  }
 },
 "nbformat": 4,
 "nbformat_minor": 5
}
