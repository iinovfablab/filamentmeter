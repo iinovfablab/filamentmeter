{
 "cells": [
  {
   "cell_type": "code",
   "execution_count": 93,
   "id": "271d2cc7-ecc3-400a-b6fc-f3ac6ee57e90",
   "metadata": {},
   "outputs": [],
   "source": [
    "import pymongo\n",
    "import pandas as pd\n",
    "from pymongo import MongoClient\n",
    "import json\n",
    "import csv\n",
    "import datetime"
   ]
  },
  {
   "cell_type": "code",
   "execution_count": 11,
   "id": "f843f63c-bb0a-4c3c-a7ac-7cf1dfcc6d8e",
   "metadata": {},
   "outputs": [],
   "source": [
    "\n",
    "#pd.read_csv(\"2023_09_04.csv\")"
   ]
  },
  {
   "cell_type": "code",
   "execution_count": 94,
   "id": "9e0f63fb-a4c3-4084-b6be-c17b129b48fc",
   "metadata": {},
   "outputs": [],
   "source": [
    "myclient = pymongo.MongoClient(\"mongodb://localhost:27017\")\n",
    "mydb = myclient[\"inovfablab\"]\n",
    "\n",
    "df = pd.read_csv(\"2023_09_04.csv\")\n",
    "\n",
    "fuso = datetime.timedelta(hours=3)\n",
    "df[['data_inicio','data_fim']] = df[['data_inicio','data_fim']].apply(pd.to_datetime)\n",
    "#df[['data_inicio','data_fim']] = df[['data_inicio','data_fim']].apply(lambda x: x-fuso)\n",
    "\n",
    "\n",
    "row = {}\n",
    "list_doc = []"
   ]
  },
  {
   "cell_type": "code",
   "execution_count": 77,
   "id": "3f331d9d-4a9a-4363-b31d-5628da7ead9f",
   "metadata": {},
   "outputs": [],
   "source": [
    "my_col = mydb['finder1']\n"
   ]
  },
  {
   "cell_type": "code",
   "execution_count": 78,
   "id": "df7480c2-4450-4456-862f-8b78755de3b5",
   "metadata": {},
   "outputs": [],
   "source": [
    "for row in range(df.ndim):\n",
    "    my_col.insert_one(df.iloc[row,:].to_dict())\n",
    "\n"
   ]
  },
  {
   "cell_type": "markdown",
   "id": "33093fac-4b53-4893-8139-63bd7fc57600",
   "metadata": {},
   "source": [
    "# Mongol comandos\n",
    "\n",
    "``$lt`` - operador de busca menor ou igual. Exemplo: ``{consumo_material(cm):{$lt:30}}``\n",
    "\n",
    "``$gt`` - operador de busca maior ou igual. Exemplo: ``{consumo_material(cm):{$gt:10}}``\n",
    "\n",
    "``$eleMatch`` - operador de busca por um range. Exemplo: ``{consumo_material(cm):{ $elemMatch: { $gt: 80, $lt: 90 } }}``\n",
    "\n",
    "## Exemplos com Datetime\n",
    "\n",
    "``$gt`` - operador de busca com DateTime. Exemplo: ``{data_inicio:{ $gt: Date('2000-06-22')}}``"
   ]
  },
  {
   "cell_type": "code",
   "execution_count": 79,
   "id": "b2ffa427-bde6-4fd5-af5d-312a0b6445ee",
   "metadata": {},
   "outputs": [
    {
     "data": {
      "text/html": [
       "<div>\n",
       "<style scoped>\n",
       "    .dataframe tbody tr th:only-of-type {\n",
       "        vertical-align: middle;\n",
       "    }\n",
       "\n",
       "    .dataframe tbody tr th {\n",
       "        vertical-align: top;\n",
       "    }\n",
       "\n",
       "    .dataframe thead th {\n",
       "        text-align: right;\n",
       "    }\n",
       "</style>\n",
       "<table border=\"1\" class=\"dataframe\">\n",
       "  <thead>\n",
       "    <tr style=\"text-align: right;\">\n",
       "      <th></th>\n",
       "      <th>consumo(minutos)</th>\n",
       "      <th>id</th>\n",
       "      <th>username</th>\n",
       "      <th>data_inicio</th>\n",
       "      <th>data_fim</th>\n",
       "      <th>curso</th>\n",
       "      <th>email</th>\n",
       "      <th>consumo_material(cm)</th>\n",
       "    </tr>\n",
       "  </thead>\n",
       "  <tbody>\n",
       "    <tr>\n",
       "      <th>0</th>\n",
       "      <td>30.0</td>\n",
       "      <td>1019</td>\n",
       "      <td>BrunaSFernandes</td>\n",
       "      <td>2023-09-04 19:00:00</td>\n",
       "      <td>2023-09-04 19:30:00</td>\n",
       "      <td>ALUNO - UNISANTA - Engenharia de Produção</td>\n",
       "      <td>brunasfernandes1901@gmail.com</td>\n",
       "      <td>338</td>\n",
       "    </tr>\n",
       "    <tr>\n",
       "      <th>1</th>\n",
       "      <td>90.0</td>\n",
       "      <td>1031</td>\n",
       "      <td>Vinicius José</td>\n",
       "      <td>2023-09-04 12:00:00</td>\n",
       "      <td>2023-09-04 13:30:00</td>\n",
       "      <td>ALUNO - UNISANTA - Engenharia de Produção</td>\n",
       "      <td>viniciusjose20@hotmail.com</td>\n",
       "      <td>0</td>\n",
       "    </tr>\n",
       "  </tbody>\n",
       "</table>\n",
       "</div>"
      ],
      "text/plain": [
       "   consumo(minutos)    id         username         data_inicio  \\\n",
       "0              30.0  1019  BrunaSFernandes 2023-09-04 19:00:00   \n",
       "1              90.0  1031    Vinicius José 2023-09-04 12:00:00   \n",
       "\n",
       "             data_fim                                      curso  \\\n",
       "0 2023-09-04 19:30:00  ALUNO - UNISANTA - Engenharia de Produção   \n",
       "1 2023-09-04 13:30:00  ALUNO - UNISANTA - Engenharia de Produção   \n",
       "\n",
       "                           email  consumo_material(cm)  \n",
       "0  brunasfernandes1901@gmail.com                   338  \n",
       "1     viniciusjose20@hotmail.com                     0  "
      ]
     },
     "execution_count": 79,
     "metadata": {},
     "output_type": "execute_result"
    }
   ],
   "source": [
    "fmt = \"%Y-%m-%d %H:%M:%S\"\n",
    "\n",
    "start = datetime.datetime.strptime(\"2023-09-04 19:00:00\", fmt)\n",
    "end = datetime.datetime.strptime(\"2023-09-04 19:21:33\", fmt)\n",
    "df\n",
    "my_col.find_one_and_update()"
   ]
  },
  {
   "cell_type": "code",
   "execution_count": 87,
   "id": "d3cc58e0-bb9a-45e6-aa04-b3aa2f69f7d6",
   "metadata": {},
   "outputs": [],
   "source": [
    "result  = my_col.find({\"$and\":[{\"data_inicio\":{\"$gte\":start}}, {\"data_fim\":{\"$not\":{\"$lte\":end}}}]})\n",
    "res = my_col.find({\"$and\":[{\"data_inicio\":{\"$gte\":start}}, {\"data_fim\":{\"$not\":{\"$lte\":end}}}]})\n"
   ]
  },
  {
   "cell_type": "code",
   "execution_count": 114,
   "id": "33534963-5b9c-4b33-8b57-8642b6942a0d",
   "metadata": {},
   "outputs": [
    {
     "ename": "TypeError",
     "evalue": "index 'id' cannot be applied to Cursor instances",
     "output_type": "error",
     "traceback": [
      "\u001b[1;31m---------------------------------------------------------------------------\u001b[0m",
      "\u001b[1;31mTypeError\u001b[0m                                 Traceback (most recent call last)",
      "Cell \u001b[1;32mIn[114], line 4\u001b[0m\n\u001b[0;32m      1\u001b[0m r \u001b[38;5;241m=\u001b[39m my_col\u001b[38;5;241m.\u001b[39mfind({\u001b[38;5;124m\"\u001b[39m\u001b[38;5;124mid\u001b[39m\u001b[38;5;124m\"\u001b[39m:{\u001b[38;5;124m\"\u001b[39m\u001b[38;5;124m$gte\u001b[39m\u001b[38;5;124m\"\u001b[39m:\u001b[38;5;241m0\u001b[39m}})\n\u001b[0;32m      2\u001b[0m t \u001b[38;5;241m=\u001b[39m df\u001b[38;5;241m.\u001b[39miloc[:,\u001b[38;5;241m1\u001b[39m]\n\u001b[1;32m----> 4\u001b[0m \u001b[38;5;28;43mlist\u001b[39;49m\u001b[43m(\u001b[49m\u001b[38;5;28;43mfilter\u001b[39;49m\u001b[43m(\u001b[49m\u001b[38;5;28;43;01mlambda\u001b[39;49;00m\u001b[43m \u001b[49m\u001b[43mx\u001b[49m\u001b[43m:\u001b[49m\u001b[43m \u001b[49m\u001b[43mx\u001b[49m\u001b[43m \u001b[49m\u001b[38;5;129;43;01min\u001b[39;49;00m\u001b[43m \u001b[49m\u001b[43mr\u001b[49m\u001b[43m[\u001b[49m\u001b[38;5;124;43m'\u001b[39;49m\u001b[38;5;124;43mid\u001b[39;49m\u001b[38;5;124;43m'\u001b[39;49m\u001b[43m]\u001b[49m\u001b[43m,\u001b[49m\u001b[43m \u001b[49m\u001b[43mt\u001b[49m\u001b[43m)\u001b[49m\u001b[43m)\u001b[49m\n",
      "Cell \u001b[1;32mIn[114], line 4\u001b[0m, in \u001b[0;36m<lambda>\u001b[1;34m(x)\u001b[0m\n\u001b[0;32m      1\u001b[0m r \u001b[38;5;241m=\u001b[39m my_col\u001b[38;5;241m.\u001b[39mfind({\u001b[38;5;124m\"\u001b[39m\u001b[38;5;124mid\u001b[39m\u001b[38;5;124m\"\u001b[39m:{\u001b[38;5;124m\"\u001b[39m\u001b[38;5;124m$gte\u001b[39m\u001b[38;5;124m\"\u001b[39m:\u001b[38;5;241m0\u001b[39m}})\n\u001b[0;32m      2\u001b[0m t \u001b[38;5;241m=\u001b[39m df\u001b[38;5;241m.\u001b[39miloc[:,\u001b[38;5;241m1\u001b[39m]\n\u001b[1;32m----> 4\u001b[0m \u001b[38;5;28mlist\u001b[39m(\u001b[38;5;28mfilter\u001b[39m(\u001b[38;5;28;01mlambda\u001b[39;00m x: x \u001b[38;5;129;01min\u001b[39;00m \u001b[43mr\u001b[49m\u001b[43m[\u001b[49m\u001b[38;5;124;43m'\u001b[39;49m\u001b[38;5;124;43mid\u001b[39;49m\u001b[38;5;124;43m'\u001b[39;49m\u001b[43m]\u001b[49m, t))\n",
      "File \u001b[1;32mc:\\users\\unisanta\\appdata\\local\\programs\\python\\python39\\lib\\site-packages\\pymongo\\cursor.py:770\u001b[0m, in \u001b[0;36mCursor.__getitem__\u001b[1;34m(self, index)\u001b[0m\n\u001b[0;32m    768\u001b[0m         \u001b[38;5;28;01mreturn\u001b[39;00m doc\n\u001b[0;32m    769\u001b[0m     \u001b[38;5;28;01mraise\u001b[39;00m \u001b[38;5;167;01mIndexError\u001b[39;00m(\u001b[38;5;124m\"\u001b[39m\u001b[38;5;124mno such item for Cursor instance\u001b[39m\u001b[38;5;124m\"\u001b[39m)\n\u001b[1;32m--> 770\u001b[0m \u001b[38;5;28;01mraise\u001b[39;00m \u001b[38;5;167;01mTypeError\u001b[39;00m(\u001b[38;5;124m\"\u001b[39m\u001b[38;5;124mindex \u001b[39m\u001b[38;5;132;01m%r\u001b[39;00m\u001b[38;5;124m cannot be applied to Cursor instances\u001b[39m\u001b[38;5;124m\"\u001b[39m \u001b[38;5;241m%\u001b[39m index)\n",
      "\u001b[1;31mTypeError\u001b[0m: index 'id' cannot be applied to Cursor instances"
     ]
    }
   ],
   "source": [
    "r = my_col.find({\"id\":{\"$gte\":0}})\n"
   ]
  },
  {
   "cell_type": "code",
   "execution_count": 16,
   "id": "babe249f-352c-434e-a5c0-2f3dedff686c",
   "metadata": {},
   "outputs": [
    {
     "ename": "NameError",
     "evalue": "name '_id' is not defined",
     "output_type": "error",
     "traceback": [
      "\u001b[1;31m---------------------------------------------------------------------------\u001b[0m",
      "\u001b[1;31mNameError\u001b[0m                                 Traceback (most recent call last)",
      "Cell \u001b[1;32mIn[16], line 3\u001b[0m\n\u001b[0;32m      1\u001b[0m _distance \u001b[38;5;241m=\u001b[39m \u001b[38;5;241m10\u001b[39m\n\u001b[1;32m----> 3\u001b[0m rs\u001b[38;5;241m=\u001b[39mmy_col\u001b[38;5;241m.\u001b[39mupdate_one({\u001b[38;5;124m\"\u001b[39m\u001b[38;5;124mid\u001b[39m\u001b[38;5;124m\"\u001b[39m:\u001b[43m_id\u001b[49m}, {\u001b[38;5;124m\"\u001b[39m\u001b[38;5;124m$set\u001b[39m\u001b[38;5;124m\"\u001b[39m:{\u001b[38;5;124m\"\u001b[39m\u001b[38;5;124mconsumo_material(cm)\u001b[39m\u001b[38;5;124m\"\u001b[39m:_c\u001b[38;5;241m+\u001b[39m_distance}})\n",
      "\u001b[1;31mNameError\u001b[0m: name '_id' is not defined"
     ]
    }
   ],
   "source": [
    "_distance = 10\n",
    "\n",
    "rs=my_col.update_one({\"id\":_id}, {\"$set\":{\"consumo_material(cm)\":_c+_distance}})"
   ]
  },
  {
   "cell_type": "code",
   "execution_count": 143,
   "id": "9f1e9714-956a-4195-a206-8191b6aee4f9",
   "metadata": {},
   "outputs": [
    {
     "name": "stdout",
     "output_type": "stream",
     "text": [
      "{   '_id': ObjectId('650b0e35ad68d8c30b494568'),\n",
      "    'consumo(minutos)': 330.0,\n",
      "    'consumo_material(cm)': 48,\n",
      "    'curso': 'ALUNO - UNISANTA - Engenharia da Criação',\n",
      "    'data_fim': datetime.datetime(2023, 9, 4, 19, 30),\n",
      "    'data_inicio': datetime.datetime(2023, 9, 4, 19, 0),\n",
      "    'email': 'zequinhatiktoker@gmail.com',\n",
      "    'id': 9999,\n",
      "    'username': 'Joselito'}\n"
     ]
    }
   ],
   "source": [
    "import pprint\n",
    "\n",
    "result  = my_col.find({\"$and\":[{\"data_inicio\":{\"$gte\":start}}, {\"data_fim\":{\"$not\":{\"$lte\":end}}}]})\n",
    "pp = pprint.PrettyPrinter(indent=4)\n",
    "\n",
    "\n",
    "for r in result:\n",
    "   pp.pprint(r)\n",
    "    "
   ]
  },
  {
   "cell_type": "code",
   "execution_count": 154,
   "id": "014b5e5e-25a4-47c5-aa3e-6df23ca62615",
   "metadata": {},
   "outputs": [],
   "source": [
    "def convert_dict_datetime(data):\n",
    "    keys_ = ['start_time', 'end_time', 'date-time']\n",
    "    for k in keys_:\n",
    "        if k == 'date-time':\n",
    "            data[k] = datetime.datetime.strptime(data[k], \"%Y-%m-%d %H:%M:%S\")\n",
    "    \n",
    "    return data\n",
    "\n",
    "tst = {\"start_time\":\"2023-9-20 19:34:24\",\"end_time\":\"2023-9-20 19:42:17\",\"distance\":1069,\"date-time\":\"2023-9-20 19:42:17\"}"
   ]
  },
  {
   "cell_type": "code",
   "execution_count": 155,
   "id": "97f3fb6d-02f8-4148-be39-721719ef8110",
   "metadata": {},
   "outputs": [
    {
     "ename": "ValueError",
     "evalue": "time data '2023-9-20 19:34:24' does not match format '%H:%M:%S'",
     "output_type": "error",
     "traceback": [
      "\u001b[1;31m---------------------------------------------------------------------------\u001b[0m",
      "\u001b[1;31mValueError\u001b[0m                                Traceback (most recent call last)",
      "Cell \u001b[1;32mIn[155], line 1\u001b[0m\n\u001b[1;32m----> 1\u001b[0m tst \u001b[38;5;241m=\u001b[39m \u001b[43mconvert_dict_datetime\u001b[49m\u001b[43m(\u001b[49m\u001b[43mtst\u001b[49m\u001b[43m)\u001b[49m\n",
      "Cell \u001b[1;32mIn[154], line 7\u001b[0m, in \u001b[0;36mconvert_dict_datetime\u001b[1;34m(data)\u001b[0m\n\u001b[0;32m      5\u001b[0m         data[k] \u001b[38;5;241m=\u001b[39m datetime\u001b[38;5;241m.\u001b[39mdatetime\u001b[38;5;241m.\u001b[39mstrptime(data[k], \u001b[38;5;124m\"\u001b[39m\u001b[38;5;124m%\u001b[39m\u001b[38;5;124mY-\u001b[39m\u001b[38;5;124m%\u001b[39m\u001b[38;5;124mm-\u001b[39m\u001b[38;5;132;01m%d\u001b[39;00m\u001b[38;5;124m\"\u001b[39m)\n\u001b[0;32m      6\u001b[0m     \u001b[38;5;28;01melse\u001b[39;00m:\n\u001b[1;32m----> 7\u001b[0m         data[k] \u001b[38;5;241m=\u001b[39m \u001b[43mdatetime\u001b[49m\u001b[38;5;241;43m.\u001b[39;49m\u001b[43mdatetime\u001b[49m\u001b[38;5;241;43m.\u001b[39;49m\u001b[43mstrptime\u001b[49m\u001b[43m(\u001b[49m\u001b[43mdata\u001b[49m\u001b[43m[\u001b[49m\u001b[43mk\u001b[49m\u001b[43m]\u001b[49m\u001b[43m,\u001b[49m\u001b[43m \u001b[49m\u001b[38;5;124;43m\"\u001b[39;49m\u001b[38;5;124;43m%\u001b[39;49m\u001b[38;5;124;43mH:\u001b[39;49m\u001b[38;5;124;43m%\u001b[39;49m\u001b[38;5;124;43mM:\u001b[39;49m\u001b[38;5;124;43m%\u001b[39;49m\u001b[38;5;124;43mS\u001b[39;49m\u001b[38;5;124;43m\"\u001b[39;49m\u001b[43m)\u001b[49m\n\u001b[0;32m      9\u001b[0m \u001b[38;5;28;01mreturn\u001b[39;00m data\n",
      "File \u001b[1;32mc:\\users\\unisanta\\appdata\\local\\programs\\python\\python39\\lib\\_strptime.py:568\u001b[0m, in \u001b[0;36m_strptime_datetime\u001b[1;34m(cls, data_string, format)\u001b[0m\n\u001b[0;32m    565\u001b[0m \u001b[38;5;28;01mdef\u001b[39;00m \u001b[38;5;21m_strptime_datetime\u001b[39m(\u001b[38;5;28mcls\u001b[39m, data_string, \u001b[38;5;28mformat\u001b[39m\u001b[38;5;241m=\u001b[39m\u001b[38;5;124m\"\u001b[39m\u001b[38;5;132;01m%a\u001b[39;00m\u001b[38;5;124m \u001b[39m\u001b[38;5;124m%\u001b[39m\u001b[38;5;124mb \u001b[39m\u001b[38;5;132;01m%d\u001b[39;00m\u001b[38;5;124m \u001b[39m\u001b[38;5;124m%\u001b[39m\u001b[38;5;124mH:\u001b[39m\u001b[38;5;124m%\u001b[39m\u001b[38;5;124mM:\u001b[39m\u001b[38;5;124m%\u001b[39m\u001b[38;5;124mS \u001b[39m\u001b[38;5;124m%\u001b[39m\u001b[38;5;124mY\u001b[39m\u001b[38;5;124m\"\u001b[39m):\n\u001b[0;32m    566\u001b[0m \u001b[38;5;250m    \u001b[39m\u001b[38;5;124;03m\"\"\"Return a class cls instance based on the input string and the\u001b[39;00m\n\u001b[0;32m    567\u001b[0m \u001b[38;5;124;03m    format string.\"\"\"\u001b[39;00m\n\u001b[1;32m--> 568\u001b[0m     tt, fraction, gmtoff_fraction \u001b[38;5;241m=\u001b[39m \u001b[43m_strptime\u001b[49m\u001b[43m(\u001b[49m\u001b[43mdata_string\u001b[49m\u001b[43m,\u001b[49m\u001b[43m \u001b[49m\u001b[38;5;28;43mformat\u001b[39;49m\u001b[43m)\u001b[49m\n\u001b[0;32m    569\u001b[0m     tzname, gmtoff \u001b[38;5;241m=\u001b[39m tt[\u001b[38;5;241m-\u001b[39m\u001b[38;5;241m2\u001b[39m:]\n\u001b[0;32m    570\u001b[0m     args \u001b[38;5;241m=\u001b[39m tt[:\u001b[38;5;241m6\u001b[39m] \u001b[38;5;241m+\u001b[39m (fraction,)\n",
      "File \u001b[1;32mc:\\users\\unisanta\\appdata\\local\\programs\\python\\python39\\lib\\_strptime.py:349\u001b[0m, in \u001b[0;36m_strptime\u001b[1;34m(data_string, format)\u001b[0m\n\u001b[0;32m    347\u001b[0m found \u001b[38;5;241m=\u001b[39m format_regex\u001b[38;5;241m.\u001b[39mmatch(data_string)\n\u001b[0;32m    348\u001b[0m \u001b[38;5;28;01mif\u001b[39;00m \u001b[38;5;129;01mnot\u001b[39;00m found:\n\u001b[1;32m--> 349\u001b[0m     \u001b[38;5;28;01mraise\u001b[39;00m \u001b[38;5;167;01mValueError\u001b[39;00m(\u001b[38;5;124m\"\u001b[39m\u001b[38;5;124mtime data \u001b[39m\u001b[38;5;132;01m%r\u001b[39;00m\u001b[38;5;124m does not match format \u001b[39m\u001b[38;5;132;01m%r\u001b[39;00m\u001b[38;5;124m\"\u001b[39m \u001b[38;5;241m%\u001b[39m\n\u001b[0;32m    350\u001b[0m                      (data_string, \u001b[38;5;28mformat\u001b[39m))\n\u001b[0;32m    351\u001b[0m \u001b[38;5;28;01mif\u001b[39;00m \u001b[38;5;28mlen\u001b[39m(data_string) \u001b[38;5;241m!=\u001b[39m found\u001b[38;5;241m.\u001b[39mend():\n\u001b[0;32m    352\u001b[0m     \u001b[38;5;28;01mraise\u001b[39;00m \u001b[38;5;167;01mValueError\u001b[39;00m(\u001b[38;5;124m\"\u001b[39m\u001b[38;5;124munconverted data remains: \u001b[39m\u001b[38;5;132;01m%s\u001b[39;00m\u001b[38;5;124m\"\u001b[39m \u001b[38;5;241m%\u001b[39m\n\u001b[0;32m    353\u001b[0m                       data_string[found\u001b[38;5;241m.\u001b[39mend():])\n",
      "\u001b[1;31mValueError\u001b[0m: time data '2023-9-20 19:34:24' does not match format '%H:%M:%S'"
     ]
    }
   ],
   "source": [
    "tst = convert_dict_datetime(tst)"
   ]
  },
  {
   "cell_type": "code",
   "execution_count": 153,
   "id": "eb6c7ed5-81d9-4ad0-9b23-41670a48a157",
   "metadata": {},
   "outputs": [
    {
     "data": {
      "text/plain": [
       "{'start_time': datetime.datetime(1900, 1, 1, 19, 0, 32),\n",
       " 'end_time': datetime.datetime(1900, 1, 1, 19, 1, 32),\n",
       " 'distance': 122,\n",
       " 'date-time': datetime.datetime(2023, 9, 20, 0, 0)}"
      ]
     },
     "execution_count": 153,
     "metadata": {},
     "output_type": "execute_result"
    }
   ],
   "source": [
    "tst"
   ]
  }
 ],
 "metadata": {
  "kernelspec": {
   "display_name": "Python 3 (ipykernel)",
   "language": "python",
   "name": "python3"
  },
  "language_info": {
   "codemirror_mode": {
    "name": "ipython",
    "version": 3
   },
   "file_extension": ".py",
   "mimetype": "text/x-python",
   "name": "python",
   "nbconvert_exporter": "python",
   "pygments_lexer": "ipython3",
   "version": "3.9.1"
  }
 },
 "nbformat": 4,
 "nbformat_minor": 5
}
