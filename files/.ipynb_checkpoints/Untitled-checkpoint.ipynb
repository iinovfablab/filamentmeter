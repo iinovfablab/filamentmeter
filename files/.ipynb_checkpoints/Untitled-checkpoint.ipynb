{
 "cells": [
  {
   "cell_type": "code",
   "execution_count": 174,
   "id": "271d2cc7-ecc3-400a-b6fc-f3ac6ee57e90",
   "metadata": {},
   "outputs": [],
   "source": [
    "import pymongo\n",
    "import pandas as pd\n",
    "from pymongo import MongoClient\n",
    "import json\n",
    "import csv"
   ]
  },
  {
   "cell_type": "code",
   "execution_count": 11,
   "id": "f843f63c-bb0a-4c3c-a7ac-7cf1dfcc6d8e",
   "metadata": {},
   "outputs": [],
   "source": [
    "\n",
    "#pd.read_csv(\"2023_09_04.csv\")"
   ]
  },
  {
   "cell_type": "code",
   "execution_count": 180,
   "id": "9e0f63fb-a4c3-4084-b6be-c17b129b48fc",
   "metadata": {},
   "outputs": [],
   "source": [
    "myclient = pymongo.MongoClient(\"mongodb://localhost:27017\")\n",
    "mydb = myclient[\"inovfablab\"]\n",
    "\n",
    "df = pd.read_csv(\"2023_09_04.csv\")\n",
    "\n",
    "\n",
    "row = {}\n",
    "list_doc = []"
   ]
  },
  {
   "cell_type": "code",
   "execution_count": 181,
   "id": "3f331d9d-4a9a-4363-b31d-5628da7ead9f",
   "metadata": {},
   "outputs": [],
   "source": [
    "my_col = mydb['finder1']"
   ]
  },
  {
   "cell_type": "code",
   "execution_count": 178,
   "id": "2fb8738c-2354-4611-8464-bdd8627fee51",
   "metadata": {},
   "outputs": [],
   "source": [
    "for row in range(df.ndim):\n",
    "    my_col.insert_one(df.iloc[row,:].to_dict())"
   ]
  },
  {
   "cell_type": "code",
   "execution_count": 158,
   "id": "5fc6cd0c-00d1-4721-afdc-1553b846b37a",
   "metadata": {},
   "outputs": [],
   "source": [
    "for i in read:\n",
    "    print(i)"
   ]
  },
  {
   "cell_type": "code",
   "execution_count": 182,
   "id": "df7480c2-4450-4456-862f-8b78755de3b5",
   "metadata": {},
   "outputs": [],
   "source": [
    "df = pd.read_csv(\"2023_09_04.csv\")\n",
    "\n",
    "for row in range(df.ndim):\n",
    "    my_col.insert_one(df.iloc[row,:].to_dict())\n",
    "\n"
   ]
  },
  {
   "cell_type": "markdown",
   "id": "33093fac-4b53-4893-8139-63bd7fc57600",
   "metadata": {},
   "source": [
    "# Mongol commands\n",
    "\n",
    "``$lt`` - operador de busca menor ou igual. Exemplo: ``{consumo_material(cm):{$lt:30}}``\n",
    "\n",
    "``$gt`` - operador de busca maior ou igual. Exemplo: ``{consumo_material(cm):{$gt:10}}``\n",
    "\n",
    "``$eleMatch`` - operador de busca por um range. Exemplo: ``{consumo_material(cm):{ $elemMatch: { $gt: 80, $lt: 90 } }}``\n",
    "\n",
    "## Exemplos com Datetime\n",
    "\n",
    "``$gt`` - operador de busca maior ou igual. Exemplo: ``{data_inicio:{ $gt: Date('2000-06-22')}}``"
   ]
  },
  {
   "cell_type": "code",
   "execution_count": null,
   "id": "b2ffa427-bde6-4fd5-af5d-312a0b6445ee",
   "metadata": {},
   "outputs": [],
   "source": []
  }
 ],
 "metadata": {
  "kernelspec": {
   "display_name": "Python 3 (ipykernel)",
   "language": "python",
   "name": "python3"
  },
  "language_info": {
   "codemirror_mode": {
    "name": "ipython",
    "version": 3
   },
   "file_extension": ".py",
   "mimetype": "text/x-python",
   "name": "python",
   "nbconvert_exporter": "python",
   "pygments_lexer": "ipython3",
   "version": "3.9.1"
  }
 },
 "nbformat": 4,
 "nbformat_minor": 5
}
