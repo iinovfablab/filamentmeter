{
 "cells": [
  {
   "cell_type": "markdown",
   "id": "e3437dda-fee7-4ff4-9321-dcabeb8c6115",
   "metadata": {},
   "source": [
    "# Git\n",
    "\n",
    "## comandos\n",
    "\n",
    "\n",
    "1 - `git status` - verifica o status do respositorio.\n",
    "\n",
    "2 - `git remote add origin {url do repositorio.git}` - se conecta ao repositorio.\n",
    "\n",
    "3 - `git remote update` -  atualiza as branch que estão no projeto\n",
    "\n",
    "4 - `git checkout {branch_name}` - se conecta a branch.\n",
    "\n",
    "5 - `git add {file} ou fit add .(para adicionar toda a pasta)` -  adiciona toda a pasta do projeto ou arquivos idependentes.\n",
    "\n",
    "6 - `git commit -m \"{alterações}\"` -  comenta todos os arquivos adicionados ou arquivos idependentes.\n",
    "\n",
    "7 - `git push origin {branch_name}` - envia as alterações a branch selecionada."
   ]
  }
 ],
 "metadata": {
  "kernelspec": {
   "display_name": "Python 3 (ipykernel)",
   "language": "python",
   "name": "python3"
  },
  "language_info": {
   "codemirror_mode": {
    "name": "ipython",
    "version": 3
   },
   "file_extension": ".py",
   "mimetype": "text/x-python",
   "name": "python",
   "nbconvert_exporter": "python",
   "pygments_lexer": "ipython3",
   "version": "3.9.1"
  }
 },
 "nbformat": 4,
 "nbformat_minor": 5
}
