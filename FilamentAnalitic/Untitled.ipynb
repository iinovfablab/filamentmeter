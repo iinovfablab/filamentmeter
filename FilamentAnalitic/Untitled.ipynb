{
 "cells": [
  {
   "cell_type": "code",
   "execution_count": 110,
   "id": "aa0607f9-de21-4289-add1-4a2b8d9cbefe",
   "metadata": {},
   "outputs": [],
   "source": [
    "import pandas as pd\n",
    "import datetime"
   ]
  },
  {
   "cell_type": "code",
   "execution_count": 111,
   "id": "31073776-8dd0-4010-813c-514ec909d437",
   "metadata": {},
   "outputs": [
    {
     "data": {
      "text/html": [
       "<div>\n",
       "<style scoped>\n",
       "    .dataframe tbody tr th:only-of-type {\n",
       "        vertical-align: middle;\n",
       "    }\n",
       "\n",
       "    .dataframe tbody tr th {\n",
       "        vertical-align: top;\n",
       "    }\n",
       "\n",
       "    .dataframe thead th {\n",
       "        text-align: right;\n",
       "    }\n",
       "</style>\n",
       "<table border=\"1\" class=\"dataframe\">\n",
       "  <thead>\n",
       "    <tr style=\"text-align: right;\">\n",
       "      <th></th>\n",
       "      <th>consumo(minutos)</th>\n",
       "      <th>id</th>\n",
       "      <th>username</th>\n",
       "      <th>data_inicio</th>\n",
       "      <th>data_fim</th>\n",
       "      <th>curso</th>\n",
       "      <th>email</th>\n",
       "      <th>consumo_material(cm)</th>\n",
       "    </tr>\n",
       "  </thead>\n",
       "  <tbody>\n",
       "    <tr>\n",
       "      <th>0</th>\n",
       "      <td>60.0</td>\n",
       "      <td>3283</td>\n",
       "      <td>MuriloCaselatti</td>\n",
       "      <td>2023-08-21 13:00:00</td>\n",
       "      <td>2023-08-21 14:00:00</td>\n",
       "      <td>ALUNO - UNISANTA - Engenharia de Computação</td>\n",
       "      <td>murilocaselatti92@gmail.com</td>\n",
       "      <td>0</td>\n",
       "    </tr>\n",
       "    <tr>\n",
       "      <th>1</th>\n",
       "      <td>60.0</td>\n",
       "      <td>1522</td>\n",
       "      <td>joselito</td>\n",
       "      <td>2023-08-21 12:00:00</td>\n",
       "      <td>2023-08-21 13:00:00</td>\n",
       "      <td>ALUNO - UNISANTA - Engenharia Eletrônica</td>\n",
       "      <td>josemaria.silvafilho93@gmail.com</td>\n",
       "      <td>824</td>\n",
       "    </tr>\n",
       "    <tr>\n",
       "      <th>2</th>\n",
       "      <td>60.0</td>\n",
       "      <td>967</td>\n",
       "      <td>hmaange</td>\n",
       "      <td>2023-08-21 11:00:00</td>\n",
       "      <td>2023-08-21 12:00:00</td>\n",
       "      <td>ALUNO - UNISANTA - Engenharia Civil</td>\n",
       "      <td>hmaange@hotmail.com</td>\n",
       "      <td>0</td>\n",
       "    </tr>\n",
       "  </tbody>\n",
       "</table>\n",
       "</div>"
      ],
      "text/plain": [
       "   consumo(minutos)    id         username          data_inicio  \\\n",
       "0              60.0  3283  MuriloCaselatti  2023-08-21 13:00:00   \n",
       "1              60.0  1522         joselito  2023-08-21 12:00:00   \n",
       "2              60.0   967          hmaange  2023-08-21 11:00:00   \n",
       "\n",
       "              data_fim                                        curso  \\\n",
       "0  2023-08-21 14:00:00  ALUNO - UNISANTA - Engenharia de Computação   \n",
       "1  2023-08-21 13:00:00     ALUNO - UNISANTA - Engenharia Eletrônica   \n",
       "2  2023-08-21 12:00:00          ALUNO - UNISANTA - Engenharia Civil   \n",
       "\n",
       "                              email  consumo_material(cm)  \n",
       "0       murilocaselatti92@gmail.com                     0  \n",
       "1  josemaria.silvafilho93@gmail.com                   824  \n",
       "2               hmaange@hotmail.com                     0  "
      ]
     },
     "execution_count": 111,
     "metadata": {},
     "output_type": "execute_result"
    }
   ],
   "source": [
    "df = pd.read_csv(\"slots.csv\")\n",
    "df"
   ]
  },
  {
   "cell_type": "code",
   "execution_count": 112,
   "id": "b6983e7f-2d78-4b92-a5d9-2ef7d535c79e",
   "metadata": {},
   "outputs": [
    {
     "ename": "IndexError",
     "evalue": "single positional indexer is out-of-bounds",
     "output_type": "error",
     "traceback": [
      "\u001b[1;31m---------------------------------------------------------------------------\u001b[0m",
      "\u001b[1;31mIndexError\u001b[0m                                Traceback (most recent call last)",
      "Cell \u001b[1;32mIn[112], line 5\u001b[0m\n\u001b[0;32m      1\u001b[0m now \u001b[38;5;241m=\u001b[39m datetime\u001b[38;5;241m.\u001b[39mdatetime\u001b[38;5;241m.\u001b[39mnow()\n\u001b[0;32m      2\u001b[0m df[[\u001b[38;5;124m'\u001b[39m\u001b[38;5;124mdata_inicio\u001b[39m\u001b[38;5;124m'\u001b[39m,\u001b[38;5;124m'\u001b[39m\u001b[38;5;124mdata_fim\u001b[39m\u001b[38;5;124m'\u001b[39m]] \u001b[38;5;241m=\u001b[39m df[[\u001b[38;5;124m'\u001b[39m\u001b[38;5;124mdata_inicio\u001b[39m\u001b[38;5;124m'\u001b[39m,\u001b[38;5;124m'\u001b[39m\u001b[38;5;124mdata_fim\u001b[39m\u001b[38;5;124m'\u001b[39m]]\u001b[38;5;241m.\u001b[39mapply(pd\u001b[38;5;241m.\u001b[39mto_datetime)\n\u001b[1;32m----> 5\u001b[0m id_ \u001b[38;5;241m=\u001b[39m \u001b[43mdf\u001b[49m\u001b[38;5;241;43m.\u001b[39;49m\u001b[43mloc\u001b[49m\u001b[43m[\u001b[49m\u001b[43mnow\u001b[49m\u001b[43m \u001b[49m\u001b[38;5;241;43m>\u001b[39;49m\u001b[38;5;241;43m=\u001b[39;49m\u001b[43m \u001b[49m\u001b[43mdf\u001b[49m\u001b[43m[\u001b[49m\u001b[38;5;124;43m'\u001b[39;49m\u001b[38;5;124;43mdata_inicio\u001b[39;49m\u001b[38;5;124;43m'\u001b[39;49m\u001b[43m]\u001b[49m\u001b[43m]\u001b[49m\u001b[38;5;241;43m.\u001b[39;49m\u001b[43mloc\u001b[49m\u001b[43m[\u001b[49m\u001b[43mnow\u001b[49m\u001b[43m \u001b[49m\u001b[38;5;241;43m<\u001b[39;49m\u001b[38;5;241;43m=\u001b[39;49m\u001b[43m \u001b[49m\u001b[43mdf\u001b[49m\u001b[43m[\u001b[49m\u001b[38;5;124;43m'\u001b[39;49m\u001b[38;5;124;43mdata_fim\u001b[39;49m\u001b[38;5;124;43m'\u001b[39;49m\u001b[43m]\u001b[49m\u001b[43m]\u001b[49m\u001b[43m[\u001b[49m\u001b[38;5;124;43m'\u001b[39;49m\u001b[38;5;124;43mid\u001b[39;49m\u001b[38;5;124;43m'\u001b[39;49m\u001b[43m]\u001b[49m\u001b[38;5;241;43m.\u001b[39;49m\u001b[43miloc\u001b[49m\u001b[43m[\u001b[49m\u001b[38;5;241;43m0\u001b[39;49m\u001b[43m]\u001b[49m\n\u001b[0;32m      6\u001b[0m id_\n",
      "File \u001b[1;32mc:\\users\\unisanta\\appdata\\local\\programs\\python\\python39\\lib\\site-packages\\pandas\\core\\indexing.py:1103\u001b[0m, in \u001b[0;36m_LocationIndexer.__getitem__\u001b[1;34m(self, key)\u001b[0m\n\u001b[0;32m   1100\u001b[0m axis \u001b[38;5;241m=\u001b[39m \u001b[38;5;28mself\u001b[39m\u001b[38;5;241m.\u001b[39maxis \u001b[38;5;129;01mor\u001b[39;00m \u001b[38;5;241m0\u001b[39m\n\u001b[0;32m   1102\u001b[0m maybe_callable \u001b[38;5;241m=\u001b[39m com\u001b[38;5;241m.\u001b[39mapply_if_callable(key, \u001b[38;5;28mself\u001b[39m\u001b[38;5;241m.\u001b[39mobj)\n\u001b[1;32m-> 1103\u001b[0m \u001b[38;5;28;01mreturn\u001b[39;00m \u001b[38;5;28;43mself\u001b[39;49m\u001b[38;5;241;43m.\u001b[39;49m\u001b[43m_getitem_axis\u001b[49m\u001b[43m(\u001b[49m\u001b[43mmaybe_callable\u001b[49m\u001b[43m,\u001b[49m\u001b[43m \u001b[49m\u001b[43maxis\u001b[49m\u001b[38;5;241;43m=\u001b[39;49m\u001b[43maxis\u001b[49m\u001b[43m)\u001b[49m\n",
      "File \u001b[1;32mc:\\users\\unisanta\\appdata\\local\\programs\\python\\python39\\lib\\site-packages\\pandas\\core\\indexing.py:1656\u001b[0m, in \u001b[0;36m_iLocIndexer._getitem_axis\u001b[1;34m(self, key, axis)\u001b[0m\n\u001b[0;32m   1653\u001b[0m     \u001b[38;5;28;01mraise\u001b[39;00m \u001b[38;5;167;01mTypeError\u001b[39;00m(\u001b[38;5;124m\"\u001b[39m\u001b[38;5;124mCannot index by location index with a non-integer key\u001b[39m\u001b[38;5;124m\"\u001b[39m)\n\u001b[0;32m   1655\u001b[0m \u001b[38;5;66;03m# validate the location\u001b[39;00m\n\u001b[1;32m-> 1656\u001b[0m \u001b[38;5;28;43mself\u001b[39;49m\u001b[38;5;241;43m.\u001b[39;49m\u001b[43m_validate_integer\u001b[49m\u001b[43m(\u001b[49m\u001b[43mkey\u001b[49m\u001b[43m,\u001b[49m\u001b[43m \u001b[49m\u001b[43maxis\u001b[49m\u001b[43m)\u001b[49m\n\u001b[0;32m   1658\u001b[0m \u001b[38;5;28;01mreturn\u001b[39;00m \u001b[38;5;28mself\u001b[39m\u001b[38;5;241m.\u001b[39mobj\u001b[38;5;241m.\u001b[39m_ixs(key, axis\u001b[38;5;241m=\u001b[39maxis)\n",
      "File \u001b[1;32mc:\\users\\unisanta\\appdata\\local\\programs\\python\\python39\\lib\\site-packages\\pandas\\core\\indexing.py:1589\u001b[0m, in \u001b[0;36m_iLocIndexer._validate_integer\u001b[1;34m(self, key, axis)\u001b[0m\n\u001b[0;32m   1587\u001b[0m len_axis \u001b[38;5;241m=\u001b[39m \u001b[38;5;28mlen\u001b[39m(\u001b[38;5;28mself\u001b[39m\u001b[38;5;241m.\u001b[39mobj\u001b[38;5;241m.\u001b[39m_get_axis(axis))\n\u001b[0;32m   1588\u001b[0m \u001b[38;5;28;01mif\u001b[39;00m key \u001b[38;5;241m>\u001b[39m\u001b[38;5;241m=\u001b[39m len_axis \u001b[38;5;129;01mor\u001b[39;00m key \u001b[38;5;241m<\u001b[39m \u001b[38;5;241m-\u001b[39mlen_axis:\n\u001b[1;32m-> 1589\u001b[0m     \u001b[38;5;28;01mraise\u001b[39;00m \u001b[38;5;167;01mIndexError\u001b[39;00m(\u001b[38;5;124m\"\u001b[39m\u001b[38;5;124msingle positional indexer is out-of-bounds\u001b[39m\u001b[38;5;124m\"\u001b[39m)\n",
      "\u001b[1;31mIndexError\u001b[0m: single positional indexer is out-of-bounds"
     ]
    }
   ],
   "source": [
    "now = datetime.datetime.now()\n",
    "df[['data_inicio','data_fim']] = df[['data_inicio','data_fim']].apply(pd.to_datetime)\n",
    "\n",
    "\n",
    "id_ = df.loc[now >= df['data_inicio']].loc[now <= df['data_fim']]['id'].iloc[0]\n",
    "id_"
   ]
  },
  {
   "cell_type": "code",
   "execution_count": null,
   "id": "a9d9bb14-6225-4ade-a0ee-3aa90a652e92",
   "metadata": {},
   "outputs": [],
   "source": [
    "df.loc[df['id']==1522, 'consumo_material(cm)'] = 3"
   ]
  },
  {
   "cell_type": "code",
   "execution_count": null,
   "id": "a60ddb92-970e-40ab-9976-88bad902a65d",
   "metadata": {},
   "outputs": [],
   "source": [
    "df"
   ]
  },
  {
   "cell_type": "code",
   "execution_count": null,
   "id": "6abfb7c5-f690-4d63-a5bd-5711b5bee4f9",
   "metadata": {},
   "outputs": [],
   "source": [
    "def g(*a,):\n",
    "    print(type(a))\n",
    "    for i in range(len(a)):\n",
    "        print(a[i])\n",
    "        "
   ]
  },
  {
   "cell_type": "code",
   "execution_count": null,
   "id": "7fc1a983-c616-4649-83c6-0b327ac3bfb9",
   "metadata": {},
   "outputs": [],
   "source": [
    "import datetime"
   ]
  },
  {
   "cell_type": "code",
   "execution_count": 1,
   "id": "b280da09-3936-4348-beca-027ece820a8b",
   "metadata": {},
   "outputs": [],
   "source": [
    "import pymongo\n",
    "import datetime\n",
    "\n",
    "def convert_dict_datetime(data):\n",
    "    keys_ = ['start_time', 'end_time', 'date-time']\n",
    "    for k in keys_:\n",
    "        data[k] = datetime.datetime.strptime(data[k], \"%Y-%m-%d %H:%M:%S\")\n",
    "    \n",
    "    return data"
   ]
  },
  {
   "cell_type": "code",
   "execution_count": 3,
   "id": "f10dee00-0f0f-45d8-8d62-c712e2bd0980",
   "metadata": {},
   "outputs": [],
   "source": [
    "myclient = pymongo.MongoClient(\"mongodb://localhost:27017\")\n",
    "mydb = myclient[\"inovfablab\"]"
   ]
  },
  {
   "cell_type": "code",
   "execution_count": 4,
   "id": "c4f79535-1c1e-44a1-8f52-14e56a5e5a51",
   "metadata": {},
   "outputs": [
    {
     "data": {
      "text/plain": [
       "datetime.datetime(2023, 10, 9, 12, 56, 4, 618799)"
      ]
     },
     "execution_count": 4,
     "metadata": {},
     "output_type": "execute_result"
    }
   ],
   "source": [
    "my_col1 = mydb['finder1']\n",
    "my_col2 = mydb['schedules_use_finder1']\n",
    "d = datetime.datetime.now()\n",
    "d"
   ]
  },
  {
   "cell_type": "code",
   "execution_count": 6,
   "id": "9cb6ab57-3fe0-4c97-ab1b-dce19914c04d",
   "metadata": {},
   "outputs": [
    {
     "name": "stdout",
     "output_type": "stream",
     "text": [
      "{'_id': ObjectId('652403d062f20cb89a872150'), 'consumo(minutos)': 90.0, 'id': 3361, 'username': 'Bruno404', 'data_inicio': datetime.datetime(2023, 10, 9, 9, 30), 'data_fim': datetime.datetime(2023, 10, 9, 11, 0), 'curso': 'ALUNO - UNISANTA - Engenharia de Computação', 'email': 'bc226790@alunos.unisanta.br', 'consumo_material(cm)': 0}\n",
      "======================================================================================================================================================\n",
      "{'_id': ObjectId('652403cd62f20cb89a87214d'), 'start_time': datetime.datetime(2023, 10, 4, 22, 11, 56), 'end_time': datetime.datetime(2023, 10, 4, 22, 12, 15), 'distance': 57, 'date-time': datetime.datetime(2023, 10, 4, 22, 12, 15)}\n",
      "{'_id': ObjectId('652403f462f20cb89a872152'), 'start_time': datetime.datetime(2023, 10, 9, 10, 45, 1), 'end_time': datetime.datetime(2023, 10, 9, 10, 45, 20), 'distance': 118, 'date-time': datetime.datetime(2023, 10, 9, 10, 45, 20)}\n"
     ]
    }
   ],
   "source": [
    "r = my_col1.find({\"data_inicio\": {\"$lte\":d}})\n",
    "for u in r:\n",
    "    print(u)\n",
    "print(150*\"=\")\n",
    "x = my_col2.find({\"start_time\": {\"$lte\":d}})\n",
    "for u in x:\n",
    "    print(u)\n",
    "\n"
   ]
  },
  {
   "cell_type": "code",
   "execution_count": 13,
   "id": "ab07f268-9457-4a7f-a9c7-13553e5b4e62",
   "metadata": {},
   "outputs": [
    {
     "name": "stdout",
     "output_type": "stream",
     "text": [
      "<class 'datetime.datetime'>\n"
     ]
    }
   ],
   "source": [
    "import re\n",
    "import datetime\n",
    "\n",
    "date = \"2023-09-29 18:00:00\"\n",
    "dt = list(map(lambda x: int(x),re.split(\"-| |:\", date)))\n",
    "t = datetime.datetime(*dt)\n",
    "print(type(t))"
   ]
  },
  {
   "cell_type": "code",
   "execution_count": 6,
   "id": "2c0548bc-c740-479f-bae9-00255eb761fe",
   "metadata": {},
   "outputs": [],
   "source": [
    "def replace_date_to_datetime(d):\n",
    "    dt = list(map(lambda x: int(x),re.split(\"-| |:\", d)))\n",
    "    return datetime.datetime(*dt)"
   ]
  },
  {
   "cell_type": "code",
   "execution_count": 41,
   "id": "27aeda7d-53ca-457a-ad67-dfbc71c50f2a",
   "metadata": {},
   "outputs": [
    {
     "name": "stdout",
     "output_type": "stream",
     "text": [
      "None\n"
     ]
    }
   ],
   "source": [
    "\n",
    "for i in my_col1.find({\"data_inicio\": {\"$lte\":d}}):\n",
    "    \n",
    "    consumption = my_col2.find_one({\"$and\":[{\"start_time\":{\"$gte\":i['data_inicio']}},\n",
    "                                            {\"end_time\":{\"$lte\":i['data_fim']}}]})\n",
    "                                             \n",
    "    print(consumption)"
   ]
  },
  {
   "cell_type": "code",
   "execution_count": 126,
   "id": "9788c529-d6d2-4cc4-81fd-dad9bd44ca6c",
   "metadata": {},
   "outputs": [
    {
     "data": {
      "text/plain": [
       "{'_id': ObjectId('65173cdf66d1b2ac362df957'),\n",
       " 'start_time': datetime.datetime(2023, 9, 29, 18, 8, 7),\n",
       " 'end_time': datetime.datetime(2023, 9, 29, 18, 8, 27),\n",
       " 'distance': 59,\n",
       " 'date-time': datetime.datetime(2023, 9, 29, 18, 8, 27)}"
      ]
     },
     "execution_count": 126,
     "metadata": {},
     "output_type": "execute_result"
    }
   ],
   "source": [
    "my_col2.find_one({\"start_time\":{\"$lte\":d}})"
   ]
  }
 ],
 "metadata": {
  "kernelspec": {
   "display_name": "Python 3 (ipykernel)",
   "language": "python",
   "name": "python3"
  },
  "language_info": {
   "codemirror_mode": {
    "name": "ipython",
    "version": 3
   },
   "file_extension": ".py",
   "mimetype": "text/x-python",
   "name": "python",
   "nbconvert_exporter": "python",
   "pygments_lexer": "ipython3",
   "version": "3.9.1"
  }
 },
 "nbformat": 4,
 "nbformat_minor": 5
}
