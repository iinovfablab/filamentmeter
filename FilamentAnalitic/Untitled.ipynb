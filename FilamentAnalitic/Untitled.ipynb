{
 "cells": [
  {
   "cell_type": "code",
   "execution_count": 124,
   "id": "aa0607f9-de21-4289-add1-4a2b8d9cbefe",
   "metadata": {},
   "outputs": [],
   "source": [
    "import pandas as pd\n",
    "import datetime"
   ]
  },
  {
   "cell_type": "code",
   "execution_count": 142,
   "id": "31073776-8dd0-4010-813c-514ec909d437",
   "metadata": {},
   "outputs": [
    {
     "data": {
      "text/html": [
       "<div>\n",
       "<style scoped>\n",
       "    .dataframe tbody tr th:only-of-type {\n",
       "        vertical-align: middle;\n",
       "    }\n",
       "\n",
       "    .dataframe tbody tr th {\n",
       "        vertical-align: top;\n",
       "    }\n",
       "\n",
       "    .dataframe thead th {\n",
       "        text-align: right;\n",
       "    }\n",
       "</style>\n",
       "<table border=\"1\" class=\"dataframe\">\n",
       "  <thead>\n",
       "    <tr style=\"text-align: right;\">\n",
       "      <th></th>\n",
       "      <th>consumo(minutos)</th>\n",
       "      <th>id</th>\n",
       "      <th>username</th>\n",
       "      <th>data_inicio</th>\n",
       "      <th>data_fim</th>\n",
       "      <th>curso</th>\n",
       "      <th>email</th>\n",
       "      <th>consumo_material(cm)</th>\n",
       "    </tr>\n",
       "  </thead>\n",
       "  <tbody>\n",
       "    <tr>\n",
       "      <th>0</th>\n",
       "      <td>60.0</td>\n",
       "      <td>3283</td>\n",
       "      <td>MuriloCaselatti</td>\n",
       "      <td>2023-08-21 13:00:00</td>\n",
       "      <td>2023-08-21 14:00:00</td>\n",
       "      <td>ALUNO - UNISANTA - Engenharia de Computação</td>\n",
       "      <td>murilocaselatti92@gmail.com</td>\n",
       "      <td>0</td>\n",
       "    </tr>\n",
       "    <tr>\n",
       "      <th>1</th>\n",
       "      <td>60.0</td>\n",
       "      <td>1522</td>\n",
       "      <td>joselito</td>\n",
       "      <td>2023-08-21 12:00:00</td>\n",
       "      <td>2023-08-21 13:00:00</td>\n",
       "      <td>ALUNO - UNISANTA - Engenharia Eletrônica</td>\n",
       "      <td>josemaria.silvafilho93@gmail.com</td>\n",
       "      <td>824</td>\n",
       "    </tr>\n",
       "    <tr>\n",
       "      <th>2</th>\n",
       "      <td>60.0</td>\n",
       "      <td>967</td>\n",
       "      <td>hmaange</td>\n",
       "      <td>2023-08-21 11:00:00</td>\n",
       "      <td>2023-08-21 12:00:00</td>\n",
       "      <td>ALUNO - UNISANTA - Engenharia Civil</td>\n",
       "      <td>hmaange@hotmail.com</td>\n",
       "      <td>0</td>\n",
       "    </tr>\n",
       "  </tbody>\n",
       "</table>\n",
       "</div>"
      ],
      "text/plain": [
       "   consumo(minutos)    id         username          data_inicio  \\\n",
       "0              60.0  3283  MuriloCaselatti  2023-08-21 13:00:00   \n",
       "1              60.0  1522         joselito  2023-08-21 12:00:00   \n",
       "2              60.0   967          hmaange  2023-08-21 11:00:00   \n",
       "\n",
       "              data_fim                                        curso  \\\n",
       "0  2023-08-21 14:00:00  ALUNO - UNISANTA - Engenharia de Computação   \n",
       "1  2023-08-21 13:00:00     ALUNO - UNISANTA - Engenharia Eletrônica   \n",
       "2  2023-08-21 12:00:00          ALUNO - UNISANTA - Engenharia Civil   \n",
       "\n",
       "                              email  consumo_material(cm)  \n",
       "0       murilocaselatti92@gmail.com                     0  \n",
       "1  josemaria.silvafilho93@gmail.com                   824  \n",
       "2               hmaange@hotmail.com                     0  "
      ]
     },
     "execution_count": 142,
     "metadata": {},
     "output_type": "execute_result"
    }
   ],
   "source": [
    "df = pd.read_csv(\"slots.csv\")\n",
    "df"
   ]
  },
  {
   "cell_type": "code",
   "execution_count": 121,
   "id": "b6983e7f-2d78-4b92-a5d9-2ef7d535c79e",
   "metadata": {},
   "outputs": [
    {
     "data": {
      "text/plain": [
       "1522"
      ]
     },
     "execution_count": 121,
     "metadata": {},
     "output_type": "execute_result"
    }
   ],
   "source": [
    "now = datetime.datetime.now()\n",
    "df[['data_inicio','data_fim']] = df[['data_inicio','data_fim']].apply(pd.to_datetime)\n",
    "\n",
    "\n",
    "id_ = df.loc[now >= df['data_inicio']].loc[now <= df['data_fim']]['id'].iloc[0]\n",
    "id_"
   ]
  },
  {
   "cell_type": "code",
   "execution_count": 104,
   "id": "a9d9bb14-6225-4ade-a0ee-3aa90a652e92",
   "metadata": {},
   "outputs": [],
   "source": [
    "df.loc[df['id']==1522, 'consumo_material(cm)'] = 3"
   ]
  },
  {
   "cell_type": "code",
   "execution_count": 134,
   "id": "a60ddb92-970e-40ab-9976-88bad902a65d",
   "metadata": {},
   "outputs": [
    {
     "data": {
      "text/html": [
       "<div>\n",
       "<style scoped>\n",
       "    .dataframe tbody tr th:only-of-type {\n",
       "        vertical-align: middle;\n",
       "    }\n",
       "\n",
       "    .dataframe tbody tr th {\n",
       "        vertical-align: top;\n",
       "    }\n",
       "\n",
       "    .dataframe thead th {\n",
       "        text-align: right;\n",
       "    }\n",
       "</style>\n",
       "<table border=\"1\" class=\"dataframe\">\n",
       "  <thead>\n",
       "    <tr style=\"text-align: right;\">\n",
       "      <th></th>\n",
       "      <th>consumo(minutos)</th>\n",
       "      <th>id</th>\n",
       "      <th>username</th>\n",
       "      <th>data_inicio</th>\n",
       "      <th>data_fim</th>\n",
       "      <th>curso</th>\n",
       "      <th>email</th>\n",
       "      <th>consumo_material(cm)</th>\n",
       "    </tr>\n",
       "  </thead>\n",
       "  <tbody>\n",
       "    <tr>\n",
       "      <th>0</th>\n",
       "      <td>60.0</td>\n",
       "      <td>3283</td>\n",
       "      <td>MuriloCaselatti</td>\n",
       "      <td>2023-08-21 13:00:00</td>\n",
       "      <td>2023-08-21 14:00:00</td>\n",
       "      <td>ALUNO - UNISANTA - Engenharia de Computação</td>\n",
       "      <td>murilocaselatti92@gmail.com</td>\n",
       "      <td>0</td>\n",
       "    </tr>\n",
       "    <tr>\n",
       "      <th>1</th>\n",
       "      <td>60.0</td>\n",
       "      <td>1522</td>\n",
       "      <td>joselito</td>\n",
       "      <td>2023-08-21 12:00:00</td>\n",
       "      <td>2023-08-21 13:00:00</td>\n",
       "      <td>ALUNO - UNISANTA - Engenharia Eletrônica</td>\n",
       "      <td>josemaria.silvafilho93@gmail.com</td>\n",
       "      <td>824</td>\n",
       "    </tr>\n",
       "    <tr>\n",
       "      <th>2</th>\n",
       "      <td>60.0</td>\n",
       "      <td>967</td>\n",
       "      <td>hmaange</td>\n",
       "      <td>2023-08-21 11:00:00</td>\n",
       "      <td>2023-08-21 12:00:00</td>\n",
       "      <td>ALUNO - UNISANTA - Engenharia Civil</td>\n",
       "      <td>hmaange@hotmail.com</td>\n",
       "      <td>0</td>\n",
       "    </tr>\n",
       "  </tbody>\n",
       "</table>\n",
       "</div>"
      ],
      "text/plain": [
       "   consumo(minutos)    id         username          data_inicio  \\\n",
       "0              60.0  3283  MuriloCaselatti  2023-08-21 13:00:00   \n",
       "1              60.0  1522         joselito  2023-08-21 12:00:00   \n",
       "2              60.0   967          hmaange  2023-08-21 11:00:00   \n",
       "\n",
       "              data_fim                                        curso  \\\n",
       "0  2023-08-21 14:00:00  ALUNO - UNISANTA - Engenharia de Computação   \n",
       "1  2023-08-21 13:00:00     ALUNO - UNISANTA - Engenharia Eletrônica   \n",
       "2  2023-08-21 12:00:00          ALUNO - UNISANTA - Engenharia Civil   \n",
       "\n",
       "                              email  consumo_material(cm)  \n",
       "0       murilocaselatti92@gmail.com                     0  \n",
       "1  josemaria.silvafilho93@gmail.com                   824  \n",
       "2               hmaange@hotmail.com                     0  "
      ]
     },
     "execution_count": 134,
     "metadata": {},
     "output_type": "execute_result"
    }
   ],
   "source": [
    "df"
   ]
  },
  {
   "cell_type": "code",
   "execution_count": 138,
   "id": "6abfb7c5-f690-4d63-a5bd-5711b5bee4f9",
   "metadata": {},
   "outputs": [],
   "source": [
    "def g(*a,):\n",
    "    print(type(a))\n",
    "    for i in range(len(a)):\n",
    "        print(a[i])\n",
    "        "
   ]
  },
  {
   "cell_type": "code",
   "execution_count": 139,
   "id": "7fc1a983-c616-4649-83c6-0b327ac3bfb9",
   "metadata": {},
   "outputs": [
    {
     "name": "stdout",
     "output_type": "stream",
     "text": [
      "<class 'tuple'>\n",
      "1\n",
      "2\n",
      "3\n",
      "4\n",
      "5\n",
      "6\n"
     ]
    }
   ],
   "source": [
    "g(1,2,3,4,5,6)"
   ]
  }
 ],
 "metadata": {
  "kernelspec": {
   "display_name": "Python 3 (ipykernel)",
   "language": "python",
   "name": "python3"
  },
  "language_info": {
   "codemirror_mode": {
    "name": "ipython",
    "version": 3
   },
   "file_extension": ".py",
   "mimetype": "text/x-python",
   "name": "python",
   "nbconvert_exporter": "python",
   "pygments_lexer": "ipython3",
   "version": "3.9.1"
  }
 },
 "nbformat": 4,
 "nbformat_minor": 5
}
